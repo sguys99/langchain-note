{
 "cells": [
  {
   "cell_type": "markdown",
   "metadata": {},
   "source": [
    "## ch03"
   ]
  },
  {
   "cell_type": "markdown",
   "metadata": {},
   "source": [
    "#### 출력파서(Output Parser)\n",
    "LangChain의 출력파서는 언어 모델(LLM)의 출력을 더 유용하고 구조화된 형태로 변환하는 중요한 컴포넌트입니다."
   ]
  },
  {
   "cell_type": "markdown",
   "metadata": {},
   "source": [
    "출력파서의 역할\n",
    "\n",
    "- LLM의 출력을 받아 더 적합한 형식으로 변환\n",
    "- 구조화된 데이터 생성에 매우 유용\n",
    "- LangChain 프레임워크에서 다양한 종류의 출력 데이터를 파싱하고 처리"
   ]
  },
  {
   "cell_type": "markdown",
   "metadata": {},
   "source": [
    "주요 특징   \n",
    "\n",
    "1. 다양성: LangChain은 많은 종류의 출력 파서를 제공합니다.  \n",
    "2. 스트리밍 지원: 많은 출력 파서들이 스트리밍을 지원합니다.  \n",
    "3. 확장성: 최소한의 모듈부터 복잡한 모듈까지 확장 가능한 인터페이스를 제공합니다.  \n"
   ]
  },
  {
   "cell_type": "markdown",
   "metadata": {},
   "source": [
    "출력파서의 이점  \n",
    "\n",
    "구조화: LLM의 자유 형식 텍스트 출력을 구조화된 데이터로 변환합니다.  \n",
    "일관성: 출력 형식을 일관되게 유지하여 후속 처리를 용이하게 합니다.  \n",
    "유연성: 다양한 출력 형식(JSON, 리스트, 딕셔너리 등)으로 변환이 가능합니다."
   ]
  },
  {
   "cell_type": "markdown",
   "metadata": {},
   "source": [
    "#### 출력파서를 사용할 때와 사용하지 않을 때"
   ]
  },
  {
   "cell_type": "markdown",
   "metadata": {},
   "source": [
    "```\n",
    "**중요 내용 추출:**\n",
    "\n",
    "1. **발신자:** 김철수 (chulsoo.kim@bikecorporation.me)\n",
    "2. **수신자:** 이은채 (eunchae@teddyinternational.me)\n",
    "3. **제목:** \"ZENESIS\" 자전거 유통 협력 및 미팅 일정 제안\n",
    "4. **요청 사항:**\n",
    "   - ZENESIS 모델의 상세한 브로슈어 요청 (기술 사양, 배터리 성능, 디자인 정보 포함)\n",
    "5. **미팅 제안:**\n",
    "   - 날짜: 다음 주 화요일 (1월 15일)\n",
    "   - 시간: 오전 10시\n",
    "   - 장소: 귀사 사무실\n",
    "\n",
    "6. **발신자 정보:**\n",
    "   - 김철수, 상무이사, 바이크코퍼레이션\n",
    "\n",
    "```"
   ]
  },
  {
   "cell_type": "markdown",
   "metadata": {},
   "source": [
    "JSON 형식의 구조화된 답변"
   ]
  },
  {
   "cell_type": "markdown",
   "metadata": {},
   "source": [
    "```\n",
    "{\n",
    "  \"person\": \"김철수\",\n",
    "  \"email\": \"chulsoo.kim@bikecorporation.me\",\n",
    "  \"subject\": \"\\\"ZENESIS\\\" 자전거 유통 협력 및 미팅 일정 제안\",\n",
    "  \"summary\": \"바이크코퍼레이션의 김철수 상무가 테디인터내셔널의 이은채 대리에게 신규 자전거 'ZENESIS' 모델에 대한 브로슈어 요청과 기술 사양, 배터리 성능, 디자인 정보 요청. 또한, 협력 논의를 위해 1월 15일 오전 10시에 미팅 제안.\",\n",
    "  \"date\": \"1월 15일 오전 10시\"\n",
    "}\n",
    "```"
   ]
  },
  {
   "cell_type": "markdown",
   "metadata": {},
   "source": []
  }
 ],
 "metadata": {
  "kernelspec": {
   "display_name": "teddy",
   "language": "python",
   "name": "python3"
  },
  "language_info": {
   "codemirror_mode": {
    "name": "ipython",
    "version": 3
   },
   "file_extension": ".py",
   "mimetype": "text/x-python",
   "name": "python",
   "nbconvert_exporter": "python",
   "pygments_lexer": "ipython3",
   "version": "3.11.9"
  }
 },
 "nbformat": 4,
 "nbformat_minor": 2
}
